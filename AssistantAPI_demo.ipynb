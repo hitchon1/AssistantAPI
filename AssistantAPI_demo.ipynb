{
 "cells": [
  {
   "cell_type": "code",
   "execution_count": 1,
   "id": "e969139b",
   "metadata": {},
   "outputs": [
    {
     "name": "stdout",
     "output_type": "stream",
     "text": [
      "Requirement already satisfied: openai in c:\\anaconda\\lib\\site-packages (1.3.4)\n",
      "Requirement already satisfied: typing-extensions<5,>=4.5 in c:\\anaconda\\lib\\site-packages (from openai) (4.5.0)\n",
      "Requirement already satisfied: pydantic<3,>=1.9.0 in c:\\anaconda\\lib\\site-packages (from openai) (1.10.4)\n",
      "Requirement already satisfied: httpx<1,>=0.23.0 in c:\\anaconda\\lib\\site-packages (from openai) (0.23.1)\n",
      "Requirement already satisfied: anyio<4,>=3.5.0 in c:\\anaconda\\lib\\site-packages (from openai) (3.6.2)\n",
      "Requirement already satisfied: tqdm>4 in c:\\anaconda\\lib\\site-packages (from openai) (4.64.1)\n",
      "Requirement already satisfied: distro<2,>=1.7.0 in c:\\anaconda\\lib\\site-packages (from openai) (1.8.0)\n",
      "Requirement already satisfied: sniffio>=1.1 in c:\\anaconda\\lib\\site-packages (from anyio<4,>=3.5.0->openai) (1.3.0)\n",
      "Requirement already satisfied: idna>=2.8 in c:\\anaconda\\lib\\site-packages (from anyio<4,>=3.5.0->openai) (3.4)\n",
      "Requirement already satisfied: certifi in c:\\anaconda\\lib\\site-packages (from httpx<1,>=0.23.0->openai) (2022.9.24)\n",
      "Requirement already satisfied: rfc3986[idna2008]<2,>=1.3 in c:\\anaconda\\lib\\site-packages (from httpx<1,>=0.23.0->openai) (1.5.0)\n",
      "Requirement already satisfied: httpcore<0.17.0,>=0.15.0 in c:\\anaconda\\lib\\site-packages (from httpx<1,>=0.23.0->openai) (0.16.2)\n",
      "Requirement already satisfied: colorama in c:\\anaconda\\lib\\site-packages (from tqdm>4->openai) (0.4.6)\n",
      "Requirement already satisfied: h11<0.15,>=0.13 in c:\\anaconda\\lib\\site-packages (from httpcore<0.17.0,>=0.15.0->httpx<1,>=0.23.0->openai) (0.14.0)\n"
     ]
    },
    {
     "name": "stderr",
     "output_type": "stream",
     "text": [
      "WARNING: Ignoring invalid distribution -rotobuf (c:\\anaconda\\lib\\site-packages)\n",
      "WARNING: Ignoring invalid distribution - (c:\\anaconda\\lib\\site-packages)\n",
      "WARNING: Ignoring invalid distribution -rotobuf (c:\\anaconda\\lib\\site-packages)\n",
      "WARNING: Ignoring invalid distribution - (c:\\anaconda\\lib\\site-packages)\n",
      "WARNING: Ignoring invalid distribution -rotobuf (c:\\anaconda\\lib\\site-packages)\n",
      "WARNING: Ignoring invalid distribution - (c:\\anaconda\\lib\\site-packages)\n",
      "WARNING: Ignoring invalid distribution -rotobuf (c:\\anaconda\\lib\\site-packages)\n",
      "WARNING: Ignoring invalid distribution - (c:\\anaconda\\lib\\site-packages)\n",
      "WARNING: Ignoring invalid distribution -rotobuf (c:\\anaconda\\lib\\site-packages)\n",
      "WARNING: Ignoring invalid distribution - (c:\\anaconda\\lib\\site-packages)\n",
      "WARNING: Ignoring invalid distribution -rotobuf (c:\\anaconda\\lib\\site-packages)\n",
      "WARNING: Ignoring invalid distribution - (c:\\anaconda\\lib\\site-packages)\n"
     ]
    }
   ],
   "source": [
    "!pip install --upgrade openai"
   ]
  },
  {
   "cell_type": "code",
   "execution_count": 2,
   "id": "dee50191",
   "metadata": {},
   "outputs": [],
   "source": [
    "from openai import OpenAI\n",
    "client = OpenAI(api_key= \"sk-YOUR OPENAI API KEY GOES HERE\")"
   ]
  },
  {
   "cell_type": "code",
   "execution_count": 4,
   "id": "704d3acc",
   "metadata": {},
   "outputs": [],
   "source": [
    "assistant = client.beta.assistants.create(\n",
    "    name=\"Youtube Assistant\",\n",
    "    instructions=\"You help review youtube videos, you are able to look at transcripts and provide answers\",\n",
    "    tools=[{\"type\":\"retrieval\"}],\n",
    "    model=\"gpt-4-1106-preview\"\n",
    ") "
   ]
  },
  {
   "cell_type": "code",
   "execution_count": 5,
   "id": "6785de4f",
   "metadata": {},
   "outputs": [],
   "source": [
    "thread = client.beta.threads.create()"
   ]
  },
  {
   "cell_type": "code",
   "execution_count": 6,
   "id": "772edef5",
   "metadata": {},
   "outputs": [
    {
     "name": "stdout",
     "output_type": "stream",
     "text": [
      "Thread(id='thread_iywUW9isunrC6xH1qNUylFb0', created_at=1700587108, metadata={}, object='thread')\n"
     ]
    }
   ],
   "source": [
    "print(thread)"
   ]
  },
  {
   "cell_type": "code",
   "execution_count": 8,
   "id": "88328033",
   "metadata": {},
   "outputs": [],
   "source": [
    "message = client.beta.threads.messages.create(\n",
    "    thread_id = thread.id,\n",
    "    role= \"user\",\n",
    "    content=\"Hey how are you?\"\n",
    ")"
   ]
  },
  {
   "cell_type": "code",
   "execution_count": 9,
   "id": "cd8508a9",
   "metadata": {},
   "outputs": [],
   "source": [
    "run = client.beta.threads.runs.create(\n",
    "    thread_id = thread.id,\n",
    "    assistant_id = assistant.id\n",
    "    \n",
    ")"
   ]
  },
  {
   "cell_type": "code",
   "execution_count": 10,
   "id": "44f1cfd0",
   "metadata": {},
   "outputs": [],
   "source": [
    "messages = client.beta.threads.messages.list(\n",
    "    thread_id = thread.id,\n",
    "    \n",
    ")"
   ]
  },
  {
   "cell_type": "code",
   "execution_count": 11,
   "id": "8dfb6a7a",
   "metadata": {},
   "outputs": [
    {
     "name": "stdout",
     "output_type": "stream",
     "text": [
      "assistant: I'm an AI, so I don't have feelings, but I'm ready and functioning properly! How can I assist you today?\n"
     ]
    }
   ],
   "source": [
    "for message in (messages.data):\n",
    "    if(message.role==\"assistant\"):\n",
    "        print(message.role + \": \" + message.content[0].text.value)"
   ]
  },
  {
   "cell_type": "code",
   "execution_count": 43,
   "id": "4dfd4686",
   "metadata": {},
   "outputs": [],
   "source": [
    "file = client.files.create(\n",
    "    file = open(\"video_transcripts.txt\",\"rb\"),\n",
    "    purpose=\"assistants\"\n",
    "\n",
    ")"
   ]
  },
  {
   "cell_type": "code",
   "execution_count": 44,
   "id": "204ca1fe",
   "metadata": {},
   "outputs": [
    {
     "data": {
      "text/plain": [
       "'file-wN8MSBQEkHIhsrEgf4GHfW9k'"
      ]
     },
     "execution_count": 44,
     "metadata": {},
     "output_type": "execute_result"
    }
   ],
   "source": [
    "file.id"
   ]
  },
  {
   "cell_type": "code",
   "execution_count": 45,
   "id": "68edffd2",
   "metadata": {},
   "outputs": [],
   "source": [
    "message = client.beta.threads.messages.create(\n",
    "    thread_id=thread.id,\n",
    "    role = \"user\",\n",
    "    content = \"What is this video txt file I attached about? \",\n",
    "    file_ids=[file.id]\n",
    "\n",
    "\n",
    ")"
   ]
  },
  {
   "cell_type": "code",
   "execution_count": 46,
   "id": "6b1e7b83",
   "metadata": {},
   "outputs": [],
   "source": [
    "run = client.beta.threads.runs.create(\n",
    "    thread_id = thread.id,\n",
    "    assistant_id = assistant.id\n",
    "    \n",
    ")"
   ]
  },
  {
   "cell_type": "code",
   "execution_count": 51,
   "id": "4475046d",
   "metadata": {},
   "outputs": [],
   "source": [
    "messages = client.beta.threads.messages.list(\n",
    "    thread_id = thread.id,\n",
    "    \n",
    ")"
   ]
  },
  {
   "cell_type": "code",
   "execution_count": 52,
   "id": "6e2b1d79",
   "metadata": {},
   "outputs": [
    {
     "name": "stdout",
     "output_type": "stream",
     "text": [
      "assistant: Based on the content of the text file, \"video_transcripts.txt,\" the file contains the transcript of a podcast episode by Andrew Huberman, a neuroscientist who hosts the Huberman Lab podcast. \n",
      "\n",
      "The podcast starts with an introduction to a live event hosted at the Meridian Theater in Toronto, titled \"The Brain Body Contract,\" followed by a Q&A session. Huberman makes sure to note that the Q&A session is available to everyone, not just those who could attend in person.\n",
      "\n",
      "He then takes a moment to acknowledge the event sponsors, AG1 and Eight Sleep. Huberman gives a detailed description of Eight Sleep's smart mattress covers that detail the benefits of temperature regulation for better sleep quality. He also talks about AG1, an all-in-one vitamin, mineral, and probiotic drink that he's been using since 2012.\n",
      "\n",
      "The transcript then shifts to Huberman's motivation for doing a guest series with psychiatrist Dr. Paul Conti. Paul Conti is recognized for his expertise in trauma and the unconscious mind. Huberman discusses their focus on providing tools for mental health that are accessible without cost, with an emphasis on mental fitness rather than illness.\n",
      "\n",
      "Huberman goes into detail about the unconscious mind and the methods suggested by Dr. Paul Conti to access it, such as introspective work during liminal states between waking and sleep or using mirror work.\n",
      "\n",
      "The discussion then moves to questions about mental health, particularly the protocols and best practices for enhancing emotional resilience. Unfortunately, the transcript cuts off after Huberman begins to address this topic, mentioning his personal triggers and hinting at the importance of having protocols for emotional resilience, though he does not elaborate further in the provided transcript fragment.\n",
      "\n",
      "If you need more detailed insights or additional information from later in the transcript, I can continue reading the document. Would you like me to proceed?\n",
      "assistant: The text file appears to be a transcript from a podcast episode of the Huberman Lab, hosted by neuroscientist Andrew Huberman. Here are a few key takeaways from the initial portion of the transcript:\n",
      "\n",
      "1. **Live Event Recap**: Andrew Huberman talks about a recent live event at the Meridian Theater in Toronto, Ontario, where he delivered a lecture titled \"The Brain Body Contract\" followed by a Q&A session.\n",
      "\n",
      "2. **Sponsor Acknowledgment**: Huberman acknowledges two sponsors of the event, AG1 and Eight Sleep. He discusses Eight Sleep's smart mattress covers and their benefits for sleep temperature regulation, as well as AG1's all-in-one nutritional drink.\n",
      "\n",
      "3. **Mental and Physical Health**: Huberman emphasizes the importance of foundational nutritional needs for optimal mental and physical health and performance.\n",
      "\n",
      "4. **Collaboration with Paul Conti**: The transcript details Huberman's collaboration with psychiatrist Paul Conti, citing his vast expertise not just in trauma but also in understanding the unconscious mind. The collaboration aimed to explore and make sense of the unconscious, which can be a profound source of self-knowledge.\n",
      "\n",
      "5. **Accessing the Unconscious Mind**: Huberman discusses various techniques introduced by Paul Conti for accessing and understanding the unconscious mind, including introspection during liminal states between waking and sleep and mirror work.\n",
      "\n",
      "6. **Mental Health Tools**: The overall theme is providing tools for mental health that are accessible without cost, with a focus on mental fitness rather than mental illness.\n",
      "\n",
      "7. **Emotional Resilience**: Huberman humorously comments on his own triggers and the importance of protocols to enhance emotional resilience, though the transcript cuts off before any specific protocols are discussed.\n",
      "\n",
      "To provide a more detailed summary or additional key takeaways, I will need to read further into the transcript. Would you like me to continue reviewing the document?\n",
      "assistant: It appears there's still an issue with accessing the text file. To proceed, I'll need you to upload the file again.\n",
      "\n",
      "Please make sure to upload a standard text document, such as a .txt or .docx file. Once you have re-uploaded the video transcript, I will be able to review it and tell you what the video is about, along with a few key takeaways.\n",
      "\n",
      "Go ahead and upload the file, and I'll take it from there.\n",
      "assistant: I apologize for the inconvenience, but there seems to be an issue with accessing the file you've uploaded. It may be due to an incorrect file format or a technical problem on our end.\n",
      "\n",
      "Would you mind uploading the text file containing the video transcript once more? Ensure that the file is in a .txt or .docx format, which can be accessed by my toolset. Once the file is re-uploaded, I'll be able to review the content and provide you with the information you're seeking. Thank you for your patience.\n",
      "assistant: It seems that there was an issue with identifying the file again. To proceed, I need you to confirm that the file is a text document containing the transcript of the video. If so, please re-upload the transcript file, ensuring that the format is a standard text format like .txt or .docx, which I can easily analyze.\n",
      "\n",
      "Once the correct file is uploaded, I can read through the transcript and provide you with key takeaways from the video. Please upload the transcript file, and I'll take care of the rest.\n",
      "assistant: It seems there was an issue identifying the file type based on the provided file ID. To assist you further, I'll need to know the format of the video file you've uploaded or any other specific details about the file that could help. If the file contains a video and you need a summary of its content, I won't be able to review its visual or audio content directly.\n",
      "\n",
      "However, if there is a transcript associated with the video, you could upload the transcript text or document. I can then review the transcript to provide you with key takeaways.\n",
      "\n",
      "Please upload the transcript or provide more information about the file, and I'll do my best to help you out!\n",
      "assistant: I'm an AI, so I don't have feelings, but I'm ready and functioning properly! How can I assist you today?\n"
     ]
    }
   ],
   "source": [
    "for message in (messages.data):\n",
    "    if(message.role==\"assistant\"):\n",
    "        print(message.role + \": \" + message.content[0].text.value)"
   ]
  },
  {
   "cell_type": "code",
   "execution_count": null,
   "id": "4c908e51",
   "metadata": {},
   "outputs": [],
   "source": []
  }
 ],
 "metadata": {
  "kernelspec": {
   "display_name": "Python 3 (ipykernel)",
   "language": "python",
   "name": "python3"
  },
  "language_info": {
   "codemirror_mode": {
    "name": "ipython",
    "version": 3
   },
   "file_extension": ".py",
   "mimetype": "text/x-python",
   "name": "python",
   "nbconvert_exporter": "python",
   "pygments_lexer": "ipython3",
   "version": "3.9.13"
  }
 },
 "nbformat": 4,
 "nbformat_minor": 5
}
